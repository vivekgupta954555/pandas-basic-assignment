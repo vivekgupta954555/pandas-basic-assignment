{
 "cells": [
  {
   "cell_type": "code",
   "execution_count": null,
   "id": "8602fbcd-95ce-4f0f-82f5-5d942135198d",
   "metadata": {},
   "outputs": [],
   "source": [
    "## QUESTION no 1"
   ]
  },
  {
   "cell_type": "code",
   "execution_count": 9,
   "id": "5a680f46-0fa0-479c-ba09-5aaa4c1101dc",
   "metadata": {},
   "outputs": [],
   "source": [
    "\n",
    "\n",
    "\n",
    "\n",
    "import pandas as pd1"
   ]
  },
  {
   "cell_type": "code",
   "execution_count": 10,
   "id": "283d02b3-bb35-44ad-a5ce-7ffd81c12388",
   "metadata": {},
   "outputs": [
    {
     "name": "stdout",
     "output_type": "stream",
     "text": [
      "Requirement already satisfied: pandas in /opt/conda/lib/python3.10/site-packages (1.5.2)\n",
      "Requirement already satisfied: python-dateutil>=2.8.1 in /opt/conda/lib/python3.10/site-packages (from pandas) (2.8.2)\n",
      "Requirement already satisfied: pytz>=2020.1 in /opt/conda/lib/python3.10/site-packages (from pandas) (2022.6)\n",
      "Requirement already satisfied: numpy>=1.21.0 in /opt/conda/lib/python3.10/site-packages (from pandas) (1.23.5)\n",
      "Requirement already satisfied: six>=1.5 in /opt/conda/lib/python3.10/site-packages (from python-dateutil>=2.8.1->pandas) (1.16.0)\n",
      "Note: you may need to restart the kernel to use updated packages.\n"
     ]
    }
   ],
   "source": [
    "pip install pandas"
   ]
  },
  {
   "cell_type": "code",
   "execution_count": 20,
   "id": "83ccb1bf-65d7-42f0-8021-0303918e792c",
   "metadata": {},
   "outputs": [],
   "source": [
    "l = ['4','8','15','16','43']"
   ]
  },
  {
   "cell_type": "code",
   "execution_count": 21,
   "id": "b666dbaa-8ea8-41fb-a416-eb2fc1439f71",
   "metadata": {},
   "outputs": [
    {
     "name": "stdout",
     "output_type": "stream",
     "text": [
      "0     4\n",
      "1     8\n",
      "2    15\n",
      "3    16\n",
      "4    43\n",
      "dtype: object\n"
     ]
    }
   ],
   "source": [
    "ser =  pd1.Series(l)\n",
    "print(ser)\n"
   ]
  },
  {
   "cell_type": "code",
   "execution_count": 22,
   "id": "6f073cc2-ee06-41c9-a4ed-ce9edb4660a7",
   "metadata": {},
   "outputs": [
    {
     "data": {
      "text/plain": [
       "pandas.core.series.Series"
      ]
     },
     "execution_count": 22,
     "metadata": {},
     "output_type": "execute_result"
    }
   ],
   "source": [
    "type(ser)"
   ]
  },
  {
   "cell_type": "code",
   "execution_count": 23,
   "id": "bc9696d8-b5e8-4e20-9c11-c5ac048dd19a",
   "metadata": {},
   "outputs": [],
   "source": [
    "##QUESTION no 2"
   ]
  },
  {
   "cell_type": "code",
   "execution_count": 27,
   "id": "5d26cc59-e386-4bb8-99a2-e80e71595b2b",
   "metadata": {},
   "outputs": [],
   "source": [
    "var_1 = pd1.Series(['name1','name2','name3','name4','name5','name6','name7','name8','name9','name10'])"
   ]
  },
  {
   "cell_type": "code",
   "execution_count": 28,
   "id": "b8a426b3-be8a-477b-986a-fd01b580f89a",
   "metadata": {},
   "outputs": [
    {
     "data": {
      "text/plain": [
       "0     name1\n",
       "1     name2\n",
       "2     name3\n",
       "3     name4\n",
       "4     name5\n",
       "5     name6\n",
       "6     name7\n",
       "7     name8\n",
       "8     name9\n",
       "9    name10\n",
       "dtype: object"
      ]
     },
     "execution_count": 28,
     "metadata": {},
     "output_type": "execute_result"
    }
   ],
   "source": [
    "var_1"
   ]
  },
  {
   "cell_type": "code",
   "execution_count": 29,
   "id": "ade2f8ea-80e5-4360-8b59-1b7577662761",
   "metadata": {},
   "outputs": [],
   "source": [
    "#ques 3"
   ]
  },
  {
   "cell_type": "code",
   "execution_count": 30,
   "id": "895428a5-dd75-487c-a87d-9abbf63b626f",
   "metadata": {},
   "outputs": [],
   "source": [
    "data = { 'Name': ['Alice',' Bob' ,'Claire'],'age':[25,30,27],'gender':['female','male','female']}"
   ]
  },
  {
   "cell_type": "code",
   "execution_count": 32,
   "id": "da2664ae-913d-483f-b825-a17f13968779",
   "metadata": {},
   "outputs": [],
   "source": [
    "df = pd1.DataFrame(data)"
   ]
  },
  {
   "cell_type": "code",
   "execution_count": 33,
   "id": "a45af3b0-81c7-497c-bb1c-0108102f0194",
   "metadata": {},
   "outputs": [
    {
     "data": {
      "text/html": [
       "<div>\n",
       "<style scoped>\n",
       "    .dataframe tbody tr th:only-of-type {\n",
       "        vertical-align: middle;\n",
       "    }\n",
       "\n",
       "    .dataframe tbody tr th {\n",
       "        vertical-align: top;\n",
       "    }\n",
       "\n",
       "    .dataframe thead th {\n",
       "        text-align: right;\n",
       "    }\n",
       "</style>\n",
       "<table border=\"1\" class=\"dataframe\">\n",
       "  <thead>\n",
       "    <tr style=\"text-align: right;\">\n",
       "      <th></th>\n",
       "      <th>Name</th>\n",
       "      <th>age</th>\n",
       "      <th>gender</th>\n",
       "    </tr>\n",
       "  </thead>\n",
       "  <tbody>\n",
       "    <tr>\n",
       "      <th>0</th>\n",
       "      <td>Alice</td>\n",
       "      <td>25</td>\n",
       "      <td>female</td>\n",
       "    </tr>\n",
       "    <tr>\n",
       "      <th>1</th>\n",
       "      <td>Bob</td>\n",
       "      <td>30</td>\n",
       "      <td>male</td>\n",
       "    </tr>\n",
       "    <tr>\n",
       "      <th>2</th>\n",
       "      <td>Claire</td>\n",
       "      <td>27</td>\n",
       "      <td>female</td>\n",
       "    </tr>\n",
       "  </tbody>\n",
       "</table>\n",
       "</div>"
      ],
      "text/plain": [
       "     Name  age  gender\n",
       "0   Alice   25  female\n",
       "1     Bob   30    male\n",
       "2  Claire   27  female"
      ]
     },
     "execution_count": 33,
     "metadata": {},
     "output_type": "execute_result"
    }
   ],
   "source": [
    "df"
   ]
  },
  {
   "cell_type": "code",
   "execution_count": 34,
   "id": "5e5856d2-5807-494c-ae6d-9b93c588f1ad",
   "metadata": {},
   "outputs": [],
   "source": [
    "#ques 4"
   ]
  },
  {
   "cell_type": "code",
   "execution_count": 35,
   "id": "92039b08-e4f0-42fe-9aa0-e427b0db6b33",
   "metadata": {},
   "outputs": [
    {
     "ename": "SyntaxError",
     "evalue": "invalid syntax (2703138047.py, line 1)",
     "output_type": "error",
     "traceback": [
      "\u001b[0;36m  Cell \u001b[0;32mIn[35], line 1\u001b[0;36m\u001b[0m\n\u001b[0;31m    DATA FRAME\u001b[0m\n\u001b[0m         ^\u001b[0m\n\u001b[0;31mSyntaxError\u001b[0m\u001b[0;31m:\u001b[0m invalid syntax\n"
     ]
    }
   ],
   "source": [
    "DATA FRAME\n",
    "the data frame is kind of data structure which contains its data if form of rows and columns and act like \n",
    "a spredsheet,it is faster and easier to use than table and spreadsheet\n",
    "DIFFRENT FROM DATA SERIES\n",
    "as data frame contain contaion both data column and index (row and column)\n",
    "\n",
    "but data series contain only data column"
   ]
  },
  {
   "cell_type": "code",
   "execution_count": null,
   "id": "fc107f7f-3d23-46eb-a705-a75caa57817b",
   "metadata": {},
   "outputs": [],
   "source": [
    "#example of data series"
   ]
  },
  {
   "cell_type": "code",
   "execution_count": 40,
   "id": "cb4dbbe4-e54b-414d-bf2c-866558930c4d",
   "metadata": {},
   "outputs": [],
   "source": [
    "var_2 = [1,2,3,4,5,6,7,8]\n"
   ]
  },
  {
   "cell_type": "code",
   "execution_count": 44,
   "id": "ba3d6419-3cfa-4741-9eed-bbf67208e5ca",
   "metadata": {},
   "outputs": [
    {
     "name": "stdout",
     "output_type": "stream",
     "text": [
      "0    1\n",
      "1    2\n",
      "2    3\n",
      "3    4\n",
      "4    5\n",
      "5    6\n",
      "6    7\n",
      "7    8\n",
      "dtype: int64\n"
     ]
    }
   ],
   "source": [
    "v = pd1.Series(var_2)\n",
    "print(v)"
   ]
  },
  {
   "cell_type": "code",
   "execution_count": null,
   "id": "c38a77fb-6332-490b-a7ee-b7ed9b35937e",
   "metadata": {},
   "outputs": [],
   "source": [
    "#examle of data frame"
   ]
  },
  {
   "cell_type": "code",
   "execution_count": 47,
   "id": "18f5055d-ca54-4459-9544-f960b6cdf9c4",
   "metadata": {},
   "outputs": [],
   "source": [
    "var_3= [2,4,6,8,5,9]"
   ]
  },
  {
   "cell_type": "code",
   "execution_count": 49,
   "id": "3bc93012-8209-47d9-9af3-b1b36d83a654",
   "metadata": {},
   "outputs": [
    {
     "name": "stdout",
     "output_type": "stream",
     "text": [
      "   column1\n",
      "0        2\n",
      "1        4\n",
      "2        6\n",
      "3        8\n",
      "4        5\n",
      "5        9\n"
     ]
    }
   ],
   "source": [
    "df = pd1.DataFrame(var_3,columns= ['column1'])\n",
    "print(df)"
   ]
  },
  {
   "cell_type": "code",
   "execution_count": 50,
   "id": "0832ca83-1fef-40fc-9be3-169f07f0f45e",
   "metadata": {},
   "outputs": [],
   "source": [
    "#ques 5"
   ]
  },
  {
   "cell_type": "code",
   "execution_count": null,
   "id": "772dc42a-37b0-4b8f-af17-1f1f890c7613",
   "metadata": {},
   "outputs": [],
   "source": [
    "datframe are both size and value mutable \n",
    "where as data series are only value mutable"
   ]
  },
  {
   "cell_type": "code",
   "execution_count": null,
   "id": "338d863f-232e-4207-80a2-179b00a32e6c",
   "metadata": {},
   "outputs": [],
   "source": [
    "# ques 5"
   ]
  },
  {
   "cell_type": "code",
   "execution_count": 51,
   "id": "fc17b1fb-2112-48a4-80d9-d6a9f4dbcafa",
   "metadata": {},
   "outputs": [],
   "source": [
    "player = ['virat kohli','rohit sharma','kl rahul','rishabh pant']\n",
    "team = ['RCB','MI','LSG','DC']"
   ]
  },
  {
   "cell_type": "code",
   "execution_count": 53,
   "id": "adbc8448-e64a-45d8-8447-8eeaf8a88c5e",
   "metadata": {},
   "outputs": [],
   "source": [
    "player_series = pd1.Series(player)\n",
    "team_series = pd1.Series(team)"
   ]
  },
  {
   "cell_type": "code",
   "execution_count": 54,
   "id": "727101a6-dc09-4b3e-8ddc-02fb524f44d3",
   "metadata": {},
   "outputs": [],
   "source": [
    "cric = {'player':player_series,'team':team_series}\n"
   ]
  },
  {
   "cell_type": "code",
   "execution_count": null,
   "id": "0ca64715-675d-436a-bffb-5ba3d7ae6710",
   "metadata": {},
   "outputs": [],
   "source": []
  }
 ],
 "metadata": {
  "kernelspec": {
   "display_name": "Python 3 (ipykernel)",
   "language": "python",
   "name": "python3"
  },
  "language_info": {
   "codemirror_mode": {
    "name": "ipython",
    "version": 3
   },
   "file_extension": ".py",
   "mimetype": "text/x-python",
   "name": "python",
   "nbconvert_exporter": "python",
   "pygments_lexer": "ipython3",
   "version": "3.10.8"
  }
 },
 "nbformat": 4,
 "nbformat_minor": 5
}
